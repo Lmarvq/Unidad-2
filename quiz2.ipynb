{
 "cells": [
  {
   "cell_type": "code",
   "execution_count": 1,
   "metadata": {},
   "outputs": [],
   "source": [
    "import matplotlib.pyplot as plt\n",
    "import numpy as np\n",
    "import scipy.io as sio"
   ]
  },
  {
   "cell_type": "code",
   "execution_count": 12,
   "metadata": {},
   "outputs": [
    {
     "name": "stdout",
     "output_type": "stream",
     "text": [
      "[[  806   809   831 ...  -396  -392  -384]\n",
      " [ -295  -300  -298 ...   678   678   679]\n",
      " [-1100 -1109 -1129 ...  1074  1070  1063]\n",
      " ...\n",
      " [  355   351   349 ... -1296 -1294 -1289]\n",
      " [  483   480   481 ... -1579 -1574 -1566]\n",
      " [  871   873   877 ... -1629 -1624 -1618]]\n"
     ]
    }
   ],
   "source": [
    "data = sio.loadmat(r\"C:\\Users\\luisa\\Downloads\\S0546.mat\")\n",
    "sio.whosmat(r\"C:\\Users\\luisa\\Downloads\\S0546.mat\")\n",
    "datos= np.array(data[\"val\"])\n",
    "print(datos)"
   ]
  },
  {
   "cell_type": "code",
   "execution_count": 9,
   "metadata": {},
   "outputs": [
    {
     "name": "stdout",
     "output_type": "stream",
     "text": [
      "<built-in method keys of dict object at 0x00000245EC51D780>\n"
     ]
    }
   ],
   "source": [
    "class Señal():\n",
    "    def __init__(self):\n",
    "        self.__datos = datos\n",
    "        self.__canales = datos.shape[0]\n",
    "        self.__puntos = datos.shape[1]\n",
    "        self.__epocas = datos.shape[2]\n",
    "        self.__tamaño = datos.ndim\n",
    "\n",
    "    def AsignardatosM(self):\n",
    "        info = input(\"Ingrese la dirección del archivo: \")\n",
    "        arch = sio.loadmat(info)\n",
    "        print(arch.values)\n",
    "        llave = input(\"Ingrese la llave del archivo a manipular\")\n",
    "        datos = np.array(arch[llave])\n",
    "        self.__datos = datos\n",
    "\n",
    "    #def AsignardatosC():\n",
    "\n",
    "    def Obtenercanales(self):\n",
    "        return self.__canales\n",
    "    \n",
    "    def Obtenerpuntos(self):\n",
    "        return self.__puntos\n",
    "    \n",
    "    def Obtenerepocas(self):\n",
    "        return self.__epocas\n",
    "    \n",
    "    \n",
    "        \n"
   ]
  },
  {
   "cell_type": "code",
   "execution_count": null,
   "metadata": {},
   "outputs": [],
   "source": [
    "class Graficadora(Señal):\n",
    "    def __init__(self):"
   ]
  }
 ],
 "metadata": {
  "kernelspec": {
   "display_name": "Python 3",
   "language": "python",
   "name": "python3"
  },
  "language_info": {
   "codemirror_mode": {
    "name": "ipython",
    "version": 3
   },
   "file_extension": ".py",
   "mimetype": "text/x-python",
   "name": "python",
   "nbconvert_exporter": "python",
   "pygments_lexer": "ipython3",
   "version": "3.11.9"
  }
 },
 "nbformat": 4,
 "nbformat_minor": 2
}
