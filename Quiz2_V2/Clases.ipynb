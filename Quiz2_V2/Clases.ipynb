{
 "cells": [
  {
   "cell_type": "code",
   "execution_count": 4,
   "metadata": {},
   "outputs": [],
   "source": [
    "import numpy as np \n",
    "import pandas as pd\n",
    "import scipy.io as sio\n",
    "import matplotlib.pyplot as plt"
   ]
  },
  {
   "cell_type": "code",
   "execution_count": 1,
   "metadata": {},
   "outputs": [],
   "source": [
    "class Sistema():\n",
    "    def __init__(self):\n",
    "        self.__DictCSV = {}\n",
    "        self.__DictMAT = {}\n",
    "\n",
    "    def ObtenerDictC(self):\n",
    "        return self.__DictCSV\n",
    "    def ObtenerDictM(self):\n",
    "        return self.__DictMAT\n",
    "    \n",
    "\n",
    "    def AddDictC(self, llave, elem):\n",
    "        self.__DictCSV[llave] = elem\n",
    "    def AddDictM(self, elem, llave):\n",
    "        self.__DictCSV[llave] = elem\n",
    "\n",
    "\n",
    "    def LeerdatosM(self):\n",
    "        dir = input(r\"Ingrese la dirección del archivo: \")\n",
    "        arch = sio.loadmat(dir)\n",
    "        llaves = sio.whosmat(dir)\n",
    "        print(llaves)\n",
    "        key = input(\"Ingrese la llave del archivo a manipular\")\n",
    "        datos = np.array(arch[key])\n",
    "        return datos and key\n",
    "    def LeerdatosC(self):\n",
    "        dir = input(\"Ingrese la dirección del archivo: \")\n",
    "        k = input(\"Ingrese la clave a asignar para este archivo: \")\n",
    "        dt = pd.read(dir)\n",
    "        return dt and k\n",
    "        \n",
    "    def ExcistanceC(self, elem, llave):\n",
    "        if elem in self.__DictCSV[llave]:\n",
    "            return True\n",
    "        else:\n",
    "            return False\n",
    "        #(\"EL ELEMENTO SELECCIONADO NO CORRESPONDE A LA LLAVE ASIGNADA, O NO EXISTE\")\n",
    "    def ExcistanceM(self, elem, llave):\n",
    "        if elem in self.__DictMAT[llave]:\n",
    "            return True\n",
    "        else:\n",
    "            return False\n",
    "       \n",
    "\n",
    "    \n"
   ]
  },
  {
   "cell_type": "code",
   "execution_count": 11,
   "metadata": {},
   "outputs": [
    {
     "name": "stdout",
     "output_type": "stream",
     "text": [
      "[('val', (12, 120012), 'double')]\n"
     ]
    }
   ],
   "source": [
    "s = Sistema()\n",
    "dir = input(r\"Ingrese la dirección del archivo: \")\n",
    "arch = sio.loadmat(dir)\n",
    "llaves = sio.whosmat(dir)\n",
    "print(llaves)\n",
    "key = input(\"Ingrese la llave del archivo a manipular\")\n",
    "datos = np.array(arch[key])\n",
    "s.AddDictM(key,datos)"
   ]
  }
 ],
 "metadata": {
  "kernelspec": {
   "display_name": "Python 3",
   "language": "python",
   "name": "python3"
  },
  "language_info": {
   "codemirror_mode": {
    "name": "ipython",
    "version": 3
   },
   "file_extension": ".py",
   "mimetype": "text/x-python",
   "name": "python",
   "nbconvert_exporter": "python",
   "pygments_lexer": "ipython3",
   "version": "3.11.9"
  }
 },
 "nbformat": 4,
 "nbformat_minor": 2
}
